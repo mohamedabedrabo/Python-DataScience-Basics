{
 "cells": [
  {
   "cell_type": "markdown",
   "id": "86b9667f",
   "metadata": {},
   "source": [
    "# Numpy basics"
   ]
  },
  {
   "cell_type": "code",
   "execution_count": 1,
   "id": "8aa26d6f",
   "metadata": {},
   "outputs": [],
   "source": [
    "#Its a powerful library for data science (to worl with lists)\n",
    "#SO IMPORTANT : IF WE WANT FO KNOW WHAT FUNCTIONS AFTER THE '.' WE DO 'TAB'"
   ]
  },
  {
   "cell_type": "code",
   "execution_count": 2,
   "id": "d3ae068c",
   "metadata": {},
   "outputs": [],
   "source": [
    "import numpy as np"
   ]
  },
  {
   "cell_type": "code",
   "execution_count": 3,
   "id": "68e9d181",
   "metadata": {},
   "outputs": [],
   "source": [
    "#define an array using list :\n",
    "a = np.array([1,2,3,5,7])"
   ]
  },
  {
   "cell_type": "code",
   "execution_count": 5,
   "id": "882dafa2",
   "metadata": {},
   "outputs": [],
   "source": [
    "#define an array using tuble :\n",
    "b = np.array((1,2,3,5,7))"
   ]
  },
  {
   "cell_type": "code",
   "execution_count": 7,
   "id": "f68feb33",
   "metadata": {},
   "outputs": [
    {
     "name": "stdout",
     "output_type": "stream",
     "text": [
      "[1 2 3 5 7]\n",
      "[1 2 3 5 7]\n"
     ]
    }
   ],
   "source": [
    "print(a)\n",
    "print(b)"
   ]
  },
  {
   "cell_type": "code",
   "execution_count": 8,
   "id": "b79e8e32",
   "metadata": {},
   "outputs": [
    {
     "name": "stdout",
     "output_type": "stream",
     "text": [
      "<class 'numpy.ndarray'>\n",
      "<class 'numpy.ndarray'>\n"
     ]
    }
   ],
   "source": [
    "print(type(a))\n",
    "print(type(b))"
   ]
  },
  {
   "cell_type": "code",
   "execution_count": 13,
   "id": "244ddcf7",
   "metadata": {},
   "outputs": [
    {
     "name": "stdout",
     "output_type": "stream",
     "text": [
      "int32\n",
      "float32\n"
     ]
    }
   ],
   "source": [
    "#tell the typw of data of a :\n",
    "print(a.dtype)\n",
    "print(b.dtype)"
   ]
  },
  {
   "cell_type": "code",
   "execution_count": 11,
   "id": "ca6a2509",
   "metadata": {},
   "outputs": [],
   "source": [
    "#if we want we can define our data type as integer\n",
    "a = np.array([1,2,3,5,7],dtype='i')\n",
    "#if we want we can define our data type as float or any other options\n",
    "b = np.array([1,2,3,5,7],dtype='f')"
   ]
  },
  {
   "cell_type": "markdown",
   "id": "7519e70e",
   "metadata": {},
   "source": [
    "# Dimensions"
   ]
  },
  {
   "cell_type": "code",
   "execution_count": 14,
   "id": "f83d8e41",
   "metadata": {},
   "outputs": [],
   "source": [
    "#when we have more than one array (arrays inside arrays):\n",
    "c = np.array([[1,2,3],[4,5,6]])"
   ]
  },
  {
   "cell_type": "code",
   "execution_count": 15,
   "id": "1c884977",
   "metadata": {},
   "outputs": [
    {
     "data": {
      "text/plain": [
       "2"
      ]
     },
     "execution_count": 15,
     "metadata": {},
     "output_type": "execute_result"
    }
   ],
   "source": [
    "#how to know how many dimensionsL\n",
    "c.ndim"
   ]
  },
  {
   "cell_type": "code",
   "execution_count": 16,
   "id": "33b60e77",
   "metadata": {},
   "outputs": [
    {
     "data": {
      "text/plain": [
       "3"
      ]
     },
     "execution_count": 16,
     "metadata": {},
     "output_type": "execute_result"
    }
   ],
   "source": [
    "#if we want to acces number '3':\n",
    "c[0,2]"
   ]
  },
  {
   "cell_type": "code",
   "execution_count": 20,
   "id": "968ac0a1",
   "metadata": {},
   "outputs": [
    {
     "name": "stderr",
     "output_type": "stream",
     "text": [
      "<ipython-input-20-2c1fc38ae7d5>:2: VisibleDeprecationWarning: Creating an ndarray from ragged nested sequences (which is a list-or-tuple of lists-or-tuples-or ndarrays with different lengths or shapes) is deprecated. If you meant to do this, you must specify 'dtype=object' when creating the ndarray.\n",
      "  d = np.array([[1,2,3],[2,4,5,9]])\n"
     ]
    }
   ],
   "source": [
    "#this cant work, because all dimensions must have the same number of elements:\n",
    "d = np.array([[1,2,3],[2,4,5,9]])"
   ]
  },
  {
   "cell_type": "code",
   "execution_count": 21,
   "id": "e858d9cb",
   "metadata": {},
   "outputs": [],
   "source": [
    "#so we can see that this one will work :\n",
    "d = np.array([[1,2,3,-1],[2,4,5,9]])"
   ]
  },
  {
   "cell_type": "code",
   "execution_count": 23,
   "id": "ee462618",
   "metadata": {},
   "outputs": [
    {
     "data": {
      "text/plain": [
       "5"
      ]
     },
     "execution_count": 23,
     "metadata": {},
     "output_type": "execute_result"
    }
   ],
   "source": [
    "d[1,2]"
   ]
  },
  {
   "cell_type": "code",
   "execution_count": 24,
   "id": "5994e6f3",
   "metadata": {},
   "outputs": [],
   "source": [
    "# 3 dimensional array:\n",
    "e = np.array([[[1,2,3],[4,5,6],[0,0,-1]],[[-1,-2,-3],[-4,-5,-6],[0,0,1]]])"
   ]
  },
  {
   "cell_type": "code",
   "execution_count": 25,
   "id": "90cc9cec",
   "metadata": {},
   "outputs": [
    {
     "data": {
      "text/plain": [
       "3"
      ]
     },
     "execution_count": 25,
     "metadata": {},
     "output_type": "execute_result"
    }
   ],
   "source": [
    "e.ndim"
   ]
  },
  {
   "cell_type": "code",
   "execution_count": 27,
   "id": "839159e7",
   "metadata": {},
   "outputs": [
    {
     "data": {
      "text/plain": [
       "1"
      ]
     },
     "execution_count": 27,
     "metadata": {},
     "output_type": "execute_result"
    }
   ],
   "source": [
    "#access the '1' in the last column:\n",
    "e[1,2,2]"
   ]
  },
  {
   "cell_type": "code",
   "execution_count": 32,
   "id": "f39da4a0",
   "metadata": {},
   "outputs": [
    {
     "data": {
      "text/plain": [
       "(2, 3, 3)"
      ]
     },
     "execution_count": 32,
     "metadata": {},
     "output_type": "execute_result"
    }
   ],
   "source": [
    "# the shape function :\n",
    "# the result means that there are two dimensions, in each one there is 3\n",
    "# arrays and inside each array there are 3 elements\n",
    "e.shape"
   ]
  },
  {
   "cell_type": "code",
   "execution_count": 36,
   "id": "c5b890b8",
   "metadata": {},
   "outputs": [
    {
     "data": {
      "text/plain": [
       "2"
      ]
     },
     "execution_count": 36,
     "metadata": {},
     "output_type": "execute_result"
    }
   ],
   "source": [
    "#this one tells us how many dimensions are:\n",
    "e.shape[0]"
   ]
  },
  {
   "cell_type": "code",
   "execution_count": 34,
   "id": "8476c4be",
   "metadata": {},
   "outputs": [
    {
     "data": {
      "text/plain": [
       "3"
      ]
     },
     "execution_count": 34,
     "metadata": {},
     "output_type": "execute_result"
    }
   ],
   "source": [
    "#this for how many arrays :\n",
    "e.shape[1]"
   ]
  },
  {
   "cell_type": "code",
   "execution_count": 35,
   "id": "facb0f1b",
   "metadata": {},
   "outputs": [
    {
     "data": {
      "text/plain": [
       "3"
      ]
     },
     "execution_count": 35,
     "metadata": {},
     "output_type": "execute_result"
    }
   ],
   "source": [
    "#this for how many elements in array :\n",
    "e.shape[2]"
   ]
  },
  {
   "cell_type": "code",
   "execution_count": 37,
   "id": "b8b292ee",
   "metadata": {},
   "outputs": [
    {
     "data": {
      "text/plain": [
       "18"
      ]
     },
     "execution_count": 37,
     "metadata": {},
     "output_type": "execute_result"
    }
   ],
   "source": [
    "#there is the size function (total elements in the array):\n",
    "e.size"
   ]
  },
  {
   "cell_type": "code",
   "execution_count": 38,
   "id": "f9cb21c3",
   "metadata": {},
   "outputs": [
    {
     "data": {
      "text/plain": [
       "72"
      ]
     },
     "execution_count": 38,
     "metadata": {},
     "output_type": "execute_result"
    }
   ],
   "source": [
    "#how many bytes the structure takes inside the memory :\n",
    "e.nbytes"
   ]
  },
  {
   "cell_type": "markdown",
   "id": "8d097031",
   "metadata": {},
   "source": [
    "# Useful functions on numpy"
   ]
  },
  {
   "cell_type": "code",
   "execution_count": 39,
   "id": "30085942",
   "metadata": {},
   "outputs": [
    {
     "name": "stdout",
     "output_type": "stream",
     "text": [
      "[ 0  1  2  3  4  5  6  7  8  9 10 11 12 13 14 15 16 17 18 19 20 21 22 23\n",
      " 24 25 26 27 28 29 30 31 32 33 34 35 36 37 38 39 40 41 42 43 44 45 46 47\n",
      " 48 49 50 51 52 53 54 55 56 57 58 59 60 61 62 63 64 65 66 67 68 69 70 71\n",
      " 72 73 74 75 76 77 78 79 80 81 82 83 84 85 86 87 88 89 90 91 92 93 94 95\n",
      " 96 97 98 99]\n"
     ]
    }
   ],
   "source": [
    "# if we want to create an array with X amount of numbers:\n",
    "f = np.arange(100)\n",
    "print(f)"
   ]
  },
  {
   "cell_type": "code",
   "execution_count": 42,
   "id": "5b938981",
   "metadata": {},
   "outputs": [
    {
     "name": "stdout",
     "output_type": "stream",
     "text": [
      "[20 23 26 29 32 35 38 41 44 47 50 53 56 59 62 65 68 71 74 77 80 83 86 89\n",
      " 92 95 98]\n"
     ]
    }
   ],
   "source": [
    "# we want to start from 20 to 100 in jumps of 3 :\n",
    "g = np.arange(20,100,3)\n",
    "print(g)"
   ]
  },
  {
   "cell_type": "code",
   "execution_count": 43,
   "id": "2936d7a1",
   "metadata": {},
   "outputs": [
    {
     "name": "stdout",
     "output_type": "stream",
     "text": [
      "[4 6 7 9 0 3 8 5 2 1]\n"
     ]
    }
   ],
   "source": [
    "# if we want to make thing random (list for example):\n",
    "h = np.random.permutation(np.arange(10))\n",
    "print(h)"
   ]
  },
  {
   "cell_type": "code",
   "execution_count": 44,
   "id": "de6ede57",
   "metadata": {},
   "outputs": [
    {
     "data": {
      "text/plain": [
       "50"
      ]
     },
     "execution_count": 44,
     "metadata": {},
     "output_type": "execute_result"
    }
   ],
   "source": [
    "# random integer between 2 values :\n",
    "np.random.randint(20,300)"
   ]
  },
  {
   "cell_type": "code",
   "execution_count": 45,
   "id": "f6d5e816",
   "metadata": {},
   "outputs": [],
   "source": [
    " # we want 1000 random values between 0,1 :\n",
    "i = np.random.rand(1000)"
   ]
  },
  {
   "cell_type": "code",
   "execution_count": 47,
   "id": "26cb0d2f",
   "metadata": {},
   "outputs": [],
   "source": [
    "# now we want to make a graph for the distrebution :\n",
    "import matplotlib.pyplot as plt"
   ]
  },
  {
   "cell_type": "code",
   "execution_count": 48,
   "id": "9d17ef04",
   "metadata": {},
   "outputs": [
    {
     "data": {
      "text/plain": [
       "(array([ 94., 107.,  88.,  98., 109., 100., 117.,  97.,  88., 102.]),\n",
       " array([1.81651795e-04, 9.98999478e-02, 1.99618244e-01, 2.99336540e-01,\n",
       "        3.99054836e-01, 4.98773132e-01, 5.98491428e-01, 6.98209724e-01,\n",
       "        7.97928020e-01, 8.97646316e-01, 9.97364612e-01]),\n",
       " <BarContainer object of 10 artists>)"
      ]
     },
     "execution_count": 48,
     "metadata": {},
     "output_type": "execute_result"
    },
    {
     "data": {
      "image/png": "[encoded data removed]",
      "text/plain": [
       "<Figure size 432x288 with 1 Axes>"
      ]
     },
     "metadata": {
      "needs_background": "light"
     },
     "output_type": "display_data"
    }
   ],
   "source": [
    "# thats how we see the graph of i :\n",
    "plt.hist(i)"
   ]
  },
  {
   "cell_type": "code",
   "execution_count": 49,
   "id": "1f7d0863",
   "metadata": {},
   "outputs": [
    {
     "data": {
      "text/plain": [
       "(array([11., 11., 12., 11., 12.,  9.,  5.,  7., 10.,  6., 12.,  7., 10.,\n",
       "         9.,  6., 12., 15., 16.,  9., 11.,  5.,  6.,  8., 12.,  8.,  9.,\n",
       "         6., 13., 10., 11., 15., 11., 10.,  8., 10.,  3.,  6., 10., 10.,\n",
       "        15.,  9., 12.,  9., 16.,  7.,  6., 19.,  8., 13., 10., 11., 12.,\n",
       "        17.,  5.,  8.,  9., 12., 10.,  7.,  9., 18.,  9., 16.,  9., 11.,\n",
       "         8., 11., 10., 11., 14.,  9.,  5.,  5., 14.,  9., 14.,  9.,  7.,\n",
       "        12., 13.,  6., 10.,  9.,  8., 10.,  7.,  9., 10., 10.,  9.,  7.,\n",
       "         9., 12., 15.,  7.,  6., 19., 11.,  9.,  7.]),\n",
       " array([1.81651795e-04, 1.01534814e-02, 2.01253110e-02, 3.00971406e-02,\n",
       "        4.00689702e-02, 5.00407998e-02, 6.00126294e-02, 6.99844590e-02,\n",
       "        7.99562886e-02, 8.99281182e-02, 9.98999478e-02, 1.09871777e-01,\n",
       "        1.19843607e-01, 1.29815437e-01, 1.39787266e-01, 1.49759096e-01,\n",
       "        1.59730925e-01, 1.69702755e-01, 1.79674585e-01, 1.89646414e-01,\n",
       "        1.99618244e-01, 2.09590073e-01, 2.19561903e-01, 2.29533733e-01,\n",
       "        2.39505562e-01, 2.49477392e-01, 2.59449221e-01, 2.69421051e-01,\n",
       "        2.79392881e-01, 2.89364710e-01, 2.99336540e-01, 3.09308369e-01,\n",
       "        3.19280199e-01, 3.29252029e-01, 3.39223858e-01, 3.49195688e-01,\n",
       "        3.59167517e-01, 3.69139347e-01, 3.79111177e-01, 3.89083006e-01,\n",
       "        3.99054836e-01, 4.09026666e-01, 4.18998495e-01, 4.28970325e-01,\n",
       "        4.38942154e-01, 4.48913984e-01, 4.58885814e-01, 4.68857643e-01,\n",
       "        4.78829473e-01, 4.88801302e-01, 4.98773132e-01, 5.08744962e-01,\n",
       "        5.18716791e-01, 5.28688621e-01, 5.38660450e-01, 5.48632280e-01,\n",
       "        5.58604110e-01, 5.68575939e-01, 5.78547769e-01, 5.88519598e-01,\n",
       "        5.98491428e-01, 6.08463258e-01, 6.18435087e-01, 6.28406917e-01,\n",
       "        6.38378746e-01, 6.48350576e-01, 6.58322406e-01, 6.68294235e-01,\n",
       "        6.78266065e-01, 6.88237894e-01, 6.98209724e-01, 7.08181554e-01,\n",
       "        7.18153383e-01, 7.28125213e-01, 7.38097042e-01, 7.48068872e-01,\n",
       "        7.58040702e-01, 7.68012531e-01, 7.77984361e-01, 7.87956190e-01,\n",
       "        7.97928020e-01, 8.07899850e-01, 8.17871679e-01, 8.27843509e-01,\n",
       "        8.37815338e-01, 8.47787168e-01, 8.57758998e-01, 8.67730827e-01,\n",
       "        8.77702657e-01, 8.87674486e-01, 8.97646316e-01, 9.07618146e-01,\n",
       "        9.17589975e-01, 9.27561805e-01, 9.37533634e-01, 9.47505464e-01,\n",
       "        9.57477294e-01, 9.67449123e-01, 9.77420953e-01, 9.87392782e-01,\n",
       "        9.97364612e-01]),\n",
       " <BarContainer object of 100 artists>)"
      ]
     },
     "execution_count": 49,
     "metadata": {},
     "output_type": "execute_result"
    },
    {
     "data": {
      "image/png": "[encoded data removed]",
      "text/plain": [
       "<Figure size 432x288 with 1 Axes>"
      ]
     },
     "metadata": {
      "needs_background": "light"
     },
     "output_type": "display_data"
    }
   ],
   "source": [
    "# or we can make more bins:\n",
    "plt.hist(i,bins=100)"
   ]
  },
  {
   "cell_type": "code",
   "execution_count": 51,
   "id": "4c1a47e0",
   "metadata": {},
   "outputs": [
    {
     "data": {
      "text/plain": [
       "(array([2.000e+00, 0.000e+00, 1.000e+00, 0.000e+00, 0.000e+00, 0.000e+00,\n",
       "        0.000e+00, 1.000e+00, 1.000e+00, 1.000e+00, 1.000e+00, 0.000e+00,\n",
       "        0.000e+00, 2.000e+00, 2.000e+00, 2.000e+00, 2.000e+00, 0.000e+00,\n",
       "        1.000e+00, 3.000e+00, 2.000e+00, 1.000e+00, 6.000e+00, 7.000e+00,\n",
       "        1.200e+01, 6.000e+00, 1.000e+01, 9.000e+00, 1.300e+01, 2.100e+01,\n",
       "        1.900e+01, 1.900e+01, 2.900e+01, 3.600e+01, 2.700e+01, 2.600e+01,\n",
       "        4.700e+01, 3.500e+01, 4.400e+01, 6.300e+01, 5.700e+01, 7.900e+01,\n",
       "        7.700e+01, 7.800e+01, 1.090e+02, 1.230e+02, 1.250e+02, 1.420e+02,\n",
       "        1.460e+02, 1.340e+02, 1.520e+02, 1.740e+02, 2.200e+02, 2.090e+02,\n",
       "        2.360e+02, 2.320e+02, 3.030e+02, 3.020e+02, 3.160e+02, 3.470e+02,\n",
       "        4.450e+02, 3.950e+02, 4.370e+02, 5.210e+02, 5.560e+02, 5.210e+02,\n",
       "        5.620e+02, 6.200e+02, 6.960e+02, 6.940e+02, 7.680e+02, 8.000e+02,\n",
       "        8.490e+02, 8.970e+02, 9.290e+02, 9.410e+02, 1.039e+03, 9.880e+02,\n",
       "        1.093e+03, 1.105e+03, 1.194e+03, 1.219e+03, 1.254e+03, 1.280e+03,\n",
       "        1.320e+03, 1.426e+03, 1.418e+03, 1.466e+03, 1.441e+03, 1.517e+03,\n",
       "        1.560e+03, 1.487e+03, 1.607e+03, 1.621e+03, 1.640e+03, 1.679e+03,\n",
       "        1.645e+03, 1.723e+03, 1.650e+03, 1.700e+03, 1.741e+03, 1.667e+03,\n",
       "        1.664e+03, 1.728e+03, 1.710e+03, 1.666e+03, 1.660e+03, 1.640e+03,\n",
       "        1.690e+03, 1.600e+03, 1.593e+03, 1.473e+03, 1.538e+03, 1.445e+03,\n",
       "        1.510e+03, 1.378e+03, 1.345e+03, 1.287e+03, 1.300e+03, 1.278e+03,\n",
       "        1.188e+03, 1.137e+03, 1.078e+03, 1.076e+03, 1.009e+03, 9.850e+02,\n",
       "        8.920e+02, 9.080e+02, 8.550e+02, 7.780e+02, 7.820e+02, 7.010e+02,\n",
       "        6.800e+02, 6.540e+02, 5.780e+02, 5.310e+02, 5.470e+02, 5.020e+02,\n",
       "        4.670e+02, 4.410e+02, 3.660e+02, 3.660e+02, 3.380e+02, 3.220e+02,\n",
       "        3.090e+02, 2.820e+02, 2.670e+02, 2.410e+02, 1.910e+02, 1.850e+02,\n",
       "        1.700e+02, 1.610e+02, 1.350e+02, 1.390e+02, 1.210e+02, 9.700e+01,\n",
       "        8.900e+01, 9.100e+01, 8.100e+01, 7.100e+01, 7.200e+01, 5.900e+01,\n",
       "        3.900e+01, 4.200e+01, 4.100e+01, 4.100e+01, 3.300e+01, 2.100e+01,\n",
       "        2.800e+01, 2.400e+01, 2.200e+01, 2.200e+01, 1.200e+01, 1.100e+01,\n",
       "        1.500e+01, 1.400e+01, 6.000e+00, 1.200e+01, 7.000e+00, 5.000e+00,\n",
       "        4.000e+00, 3.000e+00, 3.000e+00, 3.000e+00, 3.000e+00, 1.000e+00,\n",
       "        2.000e+00, 1.000e+00, 3.000e+00, 3.000e+00, 1.000e+00, 2.000e+00,\n",
       "        0.000e+00, 0.000e+00, 1.000e+00, 2.000e+00, 1.000e+00, 0.000e+00,\n",
       "        0.000e+00, 2.000e+00]),\n",
       " array([-4.32386384, -4.28094364, -4.23802345, -4.19510325, -4.15218306,\n",
       "        -4.10926287, -4.06634267, -4.02342248, -3.98050229, -3.93758209,\n",
       "        -3.8946619 , -3.8517417 , -3.80882151, -3.76590132, -3.72298112,\n",
       "        -3.68006093, -3.63714073, -3.59422054, -3.55130035, -3.50838015,\n",
       "        -3.46545996, -3.42253977, -3.37961957, -3.33669938, -3.29377918,\n",
       "        -3.25085899, -3.2079388 , -3.1650186 , -3.12209841, -3.07917821,\n",
       "        -3.03625802, -2.99333783, -2.95041763, -2.90749744, -2.86457724,\n",
       "        -2.82165705, -2.77873686, -2.73581666, -2.69289647, -2.64997628,\n",
       "        -2.60705608, -2.56413589, -2.52121569, -2.4782955 , -2.43537531,\n",
       "        -2.39245511, -2.34953492, -2.30661472, -2.26369453, -2.22077434,\n",
       "        -2.17785414, -2.13493395, -2.09201375, -2.04909356, -2.00617337,\n",
       "        -1.96325317, -1.92033298, -1.87741279, -1.83449259, -1.7915724 ,\n",
       "        -1.7486522 , -1.70573201, -1.66281182, -1.61989162, -1.57697143,\n",
       "        -1.53405123, -1.49113104, -1.44821085, -1.40529065, -1.36237046,\n",
       "        -1.31945027, -1.27653007, -1.23360988, -1.19068968, -1.14776949,\n",
       "        -1.1048493 , -1.0619291 , -1.01900891, -0.97608871, -0.93316852,\n",
       "        -0.89024833, -0.84732813, -0.80440794, -0.76148774, -0.71856755,\n",
       "        -0.67564736, -0.63272716, -0.58980697, -0.54688678, -0.50396658,\n",
       "        -0.46104639, -0.41812619, -0.375206  , -0.33228581, -0.28936561,\n",
       "        -0.24644542, -0.20352522, -0.16060503, -0.11768484, -0.07476464,\n",
       "        -0.03184445,  0.01107574,  0.05399594,  0.09691613,  0.13983633,\n",
       "         0.18275652,  0.22567671,  0.26859691,  0.3115171 ,  0.3544373 ,\n",
       "         0.39735749,  0.44027768,  0.48319788,  0.52611807,  0.56903827,\n",
       "         0.61195846,  0.65487865,  0.69779885,  0.74071904,  0.78363923,\n",
       "         0.82655943,  0.86947962,  0.91239982,  0.95532001,  0.9982402 ,\n",
       "         1.0411604 ,  1.08408059,  1.12700079,  1.16992098,  1.21284117,\n",
       "         1.25576137,  1.29868156,  1.34160176,  1.38452195,  1.42744214,\n",
       "         1.47036234,  1.51328253,  1.55620272,  1.59912292,  1.64204311,\n",
       "         1.68496331,  1.7278835 ,  1.77080369,  1.81372389,  1.85664408,\n",
       "         1.89956428,  1.94248447,  1.98540466,  2.02832486,  2.07124505,\n",
       "         2.11416524,  2.15708544,  2.20000563,  2.24292583,  2.28584602,\n",
       "         2.32876621,  2.37168641,  2.4146066 ,  2.4575268 ,  2.50044699,\n",
       "         2.54336718,  2.58628738,  2.62920757,  2.67212777,  2.71504796,\n",
       "         2.75796815,  2.80088835,  2.84380854,  2.88672873,  2.92964893,\n",
       "         2.97256912,  3.01548932,  3.05840951,  3.1013297 ,  3.1442499 ,\n",
       "         3.18717009,  3.23009029,  3.27301048,  3.31593067,  3.35885087,\n",
       "         3.40177106,  3.44469126,  3.48761145,  3.53053164,  3.57345184,\n",
       "         3.61637203,  3.65929222,  3.70221242,  3.74513261,  3.78805281,\n",
       "         3.830973  ,  3.87389319,  3.91681339,  3.95973358,  4.00265378,\n",
       "         4.04557397,  4.08849416,  4.13141436,  4.17433455,  4.21725474,\n",
       "         4.26017494]),\n",
       " <BarContainer object of 200 artists>)"
      ]
     },
     "execution_count": 51,
     "metadata": {},
     "output_type": "execute_result"
    },
    {
     "data": {
      "image/png": "[encoded data removed]",
      "text/plain": [
       "<Figure size 432x288 with 1 Axes>"
      ]
     },
     "metadata": {
      "needs_background": "light"
     },
     "output_type": "display_data"
    }
   ],
   "source": [
    "# another example : we can make normal distrebution :\n",
    "j = np.random.randn(100000)\n",
    "plt.hist(j,bins=200)"
   ]
  },
  {
   "cell_type": "code",
   "execution_count": 53,
   "id": "ec85bed3",
   "metadata": {},
   "outputs": [
    {
     "data": {
      "text/plain": [
       "array([[0.88514547, 0.90319749, 0.8624947 ],\n",
       "       [0.92510585, 0.22724482, 0.93129296]])"
      ]
     },
     "execution_count": 53,
     "metadata": {},
     "output_type": "execute_result"
    }
   ],
   "source": [
    "# if we want to make two random arrays (matrix) :\n",
    "k = np.random.rand(2,3)\n",
    "k"
   ]
  },
  {
   "cell_type": "code",
   "execution_count": 58,
   "id": "dbf6d1c0",
   "metadata": {},
   "outputs": [
    {
     "data": {
      "text/plain": [
       "array([[ 0,  1,  2,  3,  4,  5,  6,  7,  8,  9, 10, 11, 12, 13, 14, 15,\n",
       "        16, 17, 18, 19, 20, 21, 22, 23, 24],\n",
       "       [25, 26, 27, 28, 29, 30, 31, 32, 33, 34, 35, 36, 37, 38, 39, 40,\n",
       "        41, 42, 43, 44, 45, 46, 47, 48, 49],\n",
       "       [50, 51, 52, 53, 54, 55, 56, 57, 58, 59, 60, 61, 62, 63, 64, 65,\n",
       "        66, 67, 68, 69, 70, 71, 72, 73, 74],\n",
       "       [75, 76, 77, 78, 79, 80, 81, 82, 83, 84, 85, 86, 87, 88, 89, 90,\n",
       "        91, 92, 93, 94, 95, 96, 97, 98, 99]])"
      ]
     },
     "execution_count": 58,
     "metadata": {},
     "output_type": "execute_result"
    }
   ],
   "source": [
    "# RESHAPE : reshape list to a matrix (here: 4 columns 25 rows) :\n",
    "l = np.arange(100).reshape(4,25)\n",
    "l"
   ]
  },
  {
   "cell_type": "code",
   "execution_count": 59,
   "id": "74b70cd4",
   "metadata": {},
   "outputs": [
    {
     "data": {
      "text/plain": [
       "(4, 25)"
      ]
     },
     "execution_count": 59,
     "metadata": {},
     "output_type": "execute_result"
    }
   ],
   "source": [
    "l.shape"
   ]
  },
  {
   "cell_type": "markdown",
   "id": "4eec1a9c",
   "metadata": {},
   "source": [
    "# Indexing (Slicing)"
   ]
  },
  {
   "cell_type": "code",
   "execution_count": 62,
   "id": "73b345c1",
   "metadata": {},
   "outputs": [],
   "source": [
    "m = np.arange(100)"
   ]
  },
  {
   "cell_type": "code",
   "execution_count": 63,
   "id": "1a172bba",
   "metadata": {},
   "outputs": [
    {
     "name": "stdout",
     "output_type": "stream",
     "text": [
      "[3 4 5 6 7 8 9]\n"
     ]
    }
   ],
   "source": [
    "# n is just a vision of m and not a different copy:\n",
    "n = m[3:10]\n",
    "print(n)"
   ]
  },
  {
   "cell_type": "code",
   "execution_count": 66,
   "id": "29e8b3d6",
   "metadata": {},
   "outputs": [],
   "source": [
    "# there for, if we change something in n will change in m also :\n",
    "n[0] =-1200"
   ]
  },
  {
   "cell_type": "code",
   "execution_count": 69,
   "id": "92fd6396",
   "metadata": {},
   "outputs": [
    {
     "name": "stdout",
     "output_type": "stream",
     "text": [
      "[-1200     4     5     6     7     8     9]\n"
     ]
    }
   ],
   "source": [
    "print(n)"
   ]
  },
  {
   "cell_type": "code",
   "execution_count": 70,
   "id": "505423f4",
   "metadata": {},
   "outputs": [
    {
     "name": "stdout",
     "output_type": "stream",
     "text": [
      "[    0     1     2 -1200     4     5     6     7     8     9    10    11\n",
      "    12    13    14    15    16    17    18    19    20    21    22    23\n",
      "    24    25    26    27    28    29    30    31    32    33    34    35\n",
      "    36    37    38    39    40    41    42    43    44    45    46    47\n",
      "    48    49    50    51    52    53    54    55    56    57    58    59\n",
      "    60    61    62    63    64    65    66    67    68    69    70    71\n",
      "    72    73    74    75    76    77    78    79    80    81    82    83\n",
      "    84    85    86    87    88    89    90    91    92    93    94    95\n",
      "    96    97    98    99]\n"
     ]
    }
   ],
   "source": [
    "print(m)"
   ]
  },
  {
   "cell_type": "code",
   "execution_count": 71,
   "id": "46fbd71d",
   "metadata": {},
   "outputs": [],
   "source": [
    "# if we dont want that behaviour, we can do it this way :\n",
    "o = m[3:10].copy()"
   ]
  },
  {
   "cell_type": "code",
   "execution_count": 72,
   "id": "80819582",
   "metadata": {},
   "outputs": [
    {
     "data": {
      "text/plain": [
       "array([ 0,  5, 10, 15, 20, 25, 30, 35, 40, 45, 50, 55, 60, 65, 70, 75, 80,\n",
       "       85, 90, 95])"
      ]
     },
     "execution_count": 72,
     "metadata": {},
     "output_type": "execute_result"
    }
   ],
   "source": [
    "# in that way we will start from the first untill the end, \n",
    "# but it will [ick every 5th element :\n",
    "m[::5]"
   ]
  },
  {
   "cell_type": "code",
   "execution_count": 73,
   "id": "728fa9d6",
   "metadata": {},
   "outputs": [
    {
     "data": {
      "text/plain": [
       "array([99, 94, 89, 84, 79, 74, 69, 64, 59, 54, 49, 44, 39, 34, 29, 24, 19,\n",
       "       14,  9,  4])"
      ]
     },
     "execution_count": 73,
     "metadata": {},
     "output_type": "execute_result"
    }
   ],
   "source": [
    "# or we do vise versa :\n",
    "m[::-5]"
   ]
  },
  {
   "cell_type": "code",
   "execution_count": 74,
   "id": "8a6b92b6",
   "metadata": {},
   "outputs": [
    {
     "data": {
      "text/plain": [
       "array([   99,    98,    97,    96,    95,    94,    93,    92,    91,\n",
       "          90,    89,    88,    87,    86,    85,    84,    83,    82,\n",
       "          81,    80,    79,    78,    77,    76,    75,    74,    73,\n",
       "          72,    71,    70,    69,    68,    67,    66,    65,    64,\n",
       "          63,    62,    61,    60,    59,    58,    57,    56,    55,\n",
       "          54,    53,    52,    51,    50,    49,    48,    47,    46,\n",
       "          45,    44,    43,    42,    41,    40,    39,    38,    37,\n",
       "          36,    35,    34,    33,    32,    31,    30,    29,    28,\n",
       "          27,    26,    25,    24,    23,    22,    21,    20,    19,\n",
       "          18,    17,    16,    15,    14,    13,    12,    11,    10,\n",
       "           9,     8,     7,     6,     5,     4, -1200,     2,     1,\n",
       "           0])"
      ]
     },
     "execution_count": 74,
     "metadata": {},
     "output_type": "execute_result"
    }
   ],
   "source": [
    "# so this way we can reverse an array:\n",
    "m[::-1]"
   ]
  },
  {
   "cell_type": "code",
   "execution_count": 82,
   "id": "f3be5991",
   "metadata": {},
   "outputs": [],
   "source": [
    "# if we want to locate specific index :\n",
    "idx = np.argwhere(m==-1200)[0][0]"
   ]
  },
  {
   "cell_type": "code",
   "execution_count": 83,
   "id": "56d582b4",
   "metadata": {},
   "outputs": [
    {
     "data": {
      "text/plain": [
       "array([[3]], dtype=int64)"
      ]
     },
     "execution_count": 83,
     "metadata": {},
     "output_type": "execute_result"
    }
   ],
   "source": [
    "idx"
   ]
  },
  {
   "cell_type": "code",
   "execution_count": 84,
   "id": "7a7b0ac2",
   "metadata": {},
   "outputs": [],
   "source": [
    "# after we located it , if we want to change the value of the index :\n",
    "m[idx] = 3"
   ]
  },
  {
   "cell_type": "code",
   "execution_count": 85,
   "id": "45b02967",
   "metadata": {},
   "outputs": [
    {
     "name": "stdout",
     "output_type": "stream",
     "text": [
      "[ 0  1  2  3  4  5  6  7  8  9 10 11 12 13 14 15 16 17 18 19 20 21 22 23\n",
      " 24 25 26 27 28 29 30 31 32 33 34 35 36 37 38 39 40 41 42 43 44 45 46 47\n",
      " 48 49 50 51 52 53 54 55 56 57 58 59 60 61 62 63 64 65 66 67 68 69 70 71\n",
      " 72 73 74 75 76 77 78 79 80 81 82 83 84 85 86 87 88 89 90 91 92 93 94 95\n",
      " 96 97 98 99]\n"
     ]
    }
   ],
   "source": [
    "#and we can see it changed:\n",
    "print(m)"
   ]
  },
  {
   "cell_type": "code",
   "execution_count": 86,
   "id": "9e25c998",
   "metadata": {},
   "outputs": [],
   "source": [
    "# make matrix 4,5 \n",
    "# multiply with 10 so the numbers will be between 0,1 *10\n",
    "# round them so they are not like this 3.6\n",
    "p = np.round(10*np.random.rand(5,4))"
   ]
  },
  {
   "cell_type": "code",
   "execution_count": 87,
   "id": "2479dae2",
   "metadata": {},
   "outputs": [
    {
     "name": "stdout",
     "output_type": "stream",
     "text": [
      "[[ 0.  1.  9.  5.]\n",
      " [ 8.  5.  1.  3.]\n",
      " [ 8.  3.  7.  5.]\n",
      " [ 1. 10.  5.  1.]\n",
      " [ 1.  2.  6.  3.]]\n"
     ]
    }
   ],
   "source": [
    "print(p)"
   ]
  },
  {
   "cell_type": "code",
   "execution_count": 88,
   "id": "694cd7f8",
   "metadata": {},
   "outputs": [
    {
     "data": {
      "text/plain": [
       "1.0"
      ]
     },
     "execution_count": 88,
     "metadata": {},
     "output_type": "execute_result"
    }
   ],
   "source": [
    "# access second row third column :\n",
    "p[1][2]"
   ]
  },
  {
   "cell_type": "code",
   "execution_count": 89,
   "id": "fec282af",
   "metadata": {},
   "outputs": [
    {
     "data": {
      "text/plain": [
       "array([8., 5., 1., 3.])"
      ]
     },
     "execution_count": 89,
     "metadata": {},
     "output_type": "execute_result"
    }
   ],
   "source": [
    "# access all the second row :\n",
    "p[1,:]"
   ]
  },
  {
   "cell_type": "code",
   "execution_count": 90,
   "id": "58199727",
   "metadata": {},
   "outputs": [
    {
     "data": {
      "text/plain": [
       "array([ 1.,  5.,  3., 10.,  2.])"
      ]
     },
     "execution_count": 90,
     "metadata": {},
     "output_type": "execute_result"
    }
   ],
   "source": [
    "# access all the second column :\n",
    "p[:,1]"
   ]
  },
  {
   "cell_type": "code",
   "execution_count": 92,
   "id": "59c0d070",
   "metadata": {},
   "outputs": [
    {
     "data": {
      "text/plain": [
       "array([[1., 3.],\n",
       "       [7., 5.]])"
      ]
     },
     "execution_count": 92,
     "metadata": {},
     "output_type": "execute_result"
    }
   ],
   "source": [
    "# row number 1 to 3, column 2 to 4 :\n",
    "p[1:3,2:4]"
   ]
  },
  {
   "cell_type": "code",
   "execution_count": 93,
   "id": "bdc556fc",
   "metadata": {},
   "outputs": [
    {
     "data": {
      "text/plain": [
       "array([[ 0.,  8.,  8.,  1.,  1.],\n",
       "       [ 1.,  5.,  3., 10.,  2.],\n",
       "       [ 9.,  1.,  7.,  5.,  6.],\n",
       "       [ 5.,  3.,  5.,  1.,  3.]])"
      ]
     },
     "execution_count": 93,
     "metadata": {},
     "output_type": "execute_result"
    }
   ],
   "source": [
    "# we can transpose the matrix :\n",
    "p.T"
   ]
  },
  {
   "cell_type": "markdown",
   "id": "de269823",
   "metadata": {},
   "source": [
    "# Numpy linear algebra library"
   ]
  },
  {
   "cell_type": "code",
   "execution_count": 95,
   "id": "6a46e64b",
   "metadata": {},
   "outputs": [],
   "source": [
    "import numpy.linalg as la"
   ]
  },
  {
   "cell_type": "code",
   "execution_count": 96,
   "id": "09371041",
   "metadata": {},
   "outputs": [
    {
     "data": {
      "text/plain": [
       "array([[ 0.14142556,  1.40644116, -0.66482946],\n",
       "       [-3.74746395,  0.06454494,  5.01250271],\n",
       "       [ 5.0794966 , -1.31855185, -4.82301414]])"
      ]
     },
     "execution_count": 96,
     "metadata": {},
     "output_type": "execute_result"
    }
   ],
   "source": [
    "# return the inverse of a matrix :\n",
    "la.inv(np.random.rand(3,3))"
   ]
  },
  {
   "cell_type": "code",
   "execution_count": 97,
   "id": "9ed9f159",
   "metadata": {},
   "outputs": [],
   "source": [
    "# we want to sort each column individualy :\n",
    "p.sort(axis=0)"
   ]
  },
  {
   "cell_type": "code",
   "execution_count": 98,
   "id": "2d6b2654",
   "metadata": {},
   "outputs": [
    {
     "name": "stdout",
     "output_type": "stream",
     "text": [
      "[[ 0.  1.  1.  1.]\n",
      " [ 1.  2.  5.  3.]\n",
      " [ 1.  3.  6.  3.]\n",
      " [ 8.  5.  7.  5.]\n",
      " [ 8. 10.  9.  5.]]\n"
     ]
    }
   ],
   "source": [
    "print(p)"
   ]
  },
  {
   "cell_type": "code",
   "execution_count": 101,
   "id": "27b318cb",
   "metadata": {},
   "outputs": [],
   "source": [
    "# we want to seperate with axis = 1\n",
    "p.sort(axis=1)"
   ]
  },
  {
   "cell_type": "code",
   "execution_count": 102,
   "id": "b2b52f68",
   "metadata": {},
   "outputs": [
    {
     "name": "stdout",
     "output_type": "stream",
     "text": [
      "[[ 0.  1.  1.  1.]\n",
      " [ 1.  2.  3.  5.]\n",
      " [ 1.  3.  3.  6.]\n",
      " [ 5.  5.  7.  8.]\n",
      " [ 5.  8.  9. 10.]]\n"
     ]
    }
   ],
   "source": [
    "print(p)"
   ]
  },
  {
   "cell_type": "markdown",
   "id": "285ff7cf",
   "metadata": {},
   "source": [
    "# Numpy : advanced indexing:"
   ]
  },
  {
   "cell_type": "code",
   "execution_count": 109,
   "id": "2cfd2cde",
   "metadata": {},
   "outputs": [
    {
     "data": {
      "text/plain": [
       "array([ 0,  1,  2,  3,  4,  5,  6,  7,  8,  9, 10, 11, 12, 13, 14, 15, 16,\n",
       "       17, 18, 19, 20, 21, 22, 23, 24, 25, 26, 27, 28, 29, 30, 31, 32, 33,\n",
       "       34, 35, 36, 37, 38, 39, 40, 41, 42, 43, 44, 45, 46, 47, 48, 49, 50,\n",
       "       51, 52, 53, 54, 55, 56, 57, 58, 59, 60, 61, 62, 63, 64, 65, 66, 67,\n",
       "       68, 69, 70, 71, 72, 73, 74, 75, 76, 77, 78, 79, 80, 81, 82, 83, 84,\n",
       "       85, 86, 87, 88, 89, 90, 91, 92, 93, 94, 95, 96, 97, 98, 99])"
      ]
     },
     "execution_count": 109,
     "metadata": {},
     "output_type": "execute_result"
    }
   ],
   "source": [
    "# lets say we have this array:\n",
    "q = np.arange(100)\n",
    "q"
   ]
  },
  {
   "cell_type": "code",
   "execution_count": 110,
   "id": "36ddaff3",
   "metadata": {},
   "outputs": [
    {
     "data": {
      "text/plain": [
       "array([3, 5, 6])"
      ]
     },
     "execution_count": 110,
     "metadata": {},
     "output_type": "execute_result"
    }
   ],
   "source": [
    "#this way wi will make a COPY not VIEW\n",
    "r = q[[3,5,6]]\n",
    "r"
   ]
  },
  {
   "cell_type": "code",
   "execution_count": 111,
   "id": "563c7f1d",
   "metadata": {},
   "outputs": [
    {
     "data": {
      "text/plain": [
       "array([ 0,  1,  2,  3,  4,  5,  6,  7,  8,  9, 10, 11, 12, 13, 14, 15, 16,\n",
       "       17, 18, 19, 20, 21, 22, 23, 24, 25, 26, 27, 28, 29, 30, 31, 32, 33,\n",
       "       34, 35, 36, 37, 38, 39, 40, 41, 42, 43, 44, 45, 46, 47, 48, 49, 50,\n",
       "       51, 52, 53, 54, 55, 56, 57, 58, 59, 60, 61, 62, 63, 64, 65, 66, 67,\n",
       "       68, 69, 70, 71, 72, 73, 74, 75, 76, 77, 78, 79, 80, 81, 82, 83, 84,\n",
       "       85, 86, 87, 88, 89, 90, 91, 92, 93, 94, 95, 96, 97, 98, 99])"
      ]
     },
     "execution_count": 111,
     "metadata": {},
     "output_type": "execute_result"
    }
   ],
   "source": [
    "# changes we make on r will not be made on q\n",
    "r[0] = -4\n",
    "r\n",
    "q"
   ]
  },
  {
   "cell_type": "code",
   "execution_count": 112,
   "id": "f9a2d86d",
   "metadata": {},
   "outputs": [
    {
     "data": {
      "text/plain": [
       "array([ 0,  1,  2,  3,  4,  5,  6,  7,  8,  9, 10, 11, 12, 13, 14, 15, 16,\n",
       "       17, 18, 19, 20, 21, 22, 23, 24, 25, 26, 27, 28, 29, 30, 31, 32, 33,\n",
       "       34, 35, 36, 37, 38, 39])"
      ]
     },
     "execution_count": 112,
     "metadata": {},
     "output_type": "execute_result"
    }
   ],
   "source": [
    "# access wll the elements < 40 in q :\n",
    "s = q[q<40]\n",
    "s"
   ]
  },
  {
   "cell_type": "code",
   "execution_count": 114,
   "id": "a5b5f17b",
   "metadata": {},
   "outputs": [
    {
     "data": {
      "text/plain": [
       "array([31, 32, 33, 34, 35, 36, 37, 38, 39])"
      ]
     },
     "execution_count": 114,
     "metadata": {},
     "output_type": "execute_result"
    }
   ],
   "source": [
    "# s<40 and s>30\n",
    "s = q[(q<40) & (q>30)]\n",
    "s"
   ]
  },
  {
   "cell_type": "code",
   "execution_count": 115,
   "id": "b83fd28c",
   "metadata": {},
   "outputs": [],
   "source": [
    "# So important :\n",
    "\n",
    "# for arrays : (& , / , ~)\n",
    "# for single objects : (and , or , not)"
   ]
  },
  {
   "cell_type": "markdown",
   "id": "11947909",
   "metadata": {},
   "source": [
    "# Numpy Broadcasting :"
   ]
  },
  {
   "cell_type": "code",
   "execution_count": 116,
   "id": "1e6f3fd2",
   "metadata": {},
   "outputs": [],
   "source": [
    "t = np.round(10*np.random.rand(2,3))"
   ]
  },
  {
   "cell_type": "code",
   "execution_count": 117,
   "id": "5edab0d0",
   "metadata": {},
   "outputs": [
    {
     "data": {
      "text/plain": [
       "array([[3., 9., 7.],\n",
       "       [9., 7., 5.]])"
      ]
     },
     "execution_count": 117,
     "metadata": {},
     "output_type": "execute_result"
    }
   ],
   "source": [
    "t"
   ]
  },
  {
   "cell_type": "code",
   "execution_count": 118,
   "id": "cb87d712",
   "metadata": {},
   "outputs": [
    {
     "data": {
      "text/plain": [
       "array([[ 6., 12., 10.],\n",
       "       [12., 10.,  8.]])"
      ]
     },
     "execution_count": 118,
     "metadata": {},
     "output_type": "execute_result"
    }
   ],
   "source": [
    "# we want to add 3 to each element of the matrix :\n",
    "t+3"
   ]
  },
  {
   "cell_type": "code",
   "execution_count": 122,
   "id": "eebb6e95",
   "metadata": {},
   "outputs": [
    {
     "data": {
      "text/plain": [
       "array([[0],\n",
       "       [1]])"
      ]
     },
     "execution_count": 122,
     "metadata": {},
     "output_type": "execute_result"
    }
   ],
   "source": [
    "# add\n",
    "np.arange(2).reshape(2,1)"
   ]
  },
  {
   "cell_type": "code",
   "execution_count": null,
   "id": "b9336e5b",
   "metadata": {},
   "outputs": [],
   "source": []
  }
 ],
 "metadata": {
  "kernelspec": {
   "display_name": "Python 3",
   "language": "python",
   "name": "python3"
  },
  "language_info": {
   "codemirror_mode": {
    "name": "ipython",
    "version": 3
   },
   "file_extension": ".py",
   "mimetype": "text/x-python",
   "name": "python",
   "nbconvert_exporter": "python",
   "pygments_lexer": "ipython3",
   "version": "3.8.8"
  }
 },
 "nbformat": 4,
 "nbformat_minor": 5
}
