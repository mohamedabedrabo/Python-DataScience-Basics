{
 "cells": [
  {
   "cell_type": "code",
   "execution_count": 1,
   "id": "535c4bc0",
   "metadata": {},
   "outputs": [
    {
     "name": "stdout",
     "output_type": "stream",
     "text": [
      "hello world\n"
     ]
    }
   ],
   "source": [
    "print(\"hello world\")"
   ]
  },
  {
   "cell_type": "markdown",
   "id": "6895102b",
   "metadata": {},
   "source": [
    "# variables"
   ]
  },
  {
   "cell_type": "code",
   "execution_count": 1,
   "id": "9f0e66d1",
   "metadata": {},
   "outputs": [],
   "source": [
    "#this is our first variable :\n",
    "x = 3"
   ]
  },
  {
   "cell_type": "code",
   "execution_count": 5,
   "id": "0b55eeb4",
   "metadata": {},
   "outputs": [
    {
     "name": "stdout",
     "output_type": "stream",
     "text": [
      "Variable   Type    Data/Info\n",
      "----------------------------\n",
      "x          int     3\n"
     ]
    }
   ],
   "source": [
    "#this is a function that we can know how many variables in the memory:\n",
    "%whos"
   ]
  },
  {
   "cell_type": "code",
   "execution_count": 6,
   "id": "c8f30609",
   "metadata": {},
   "outputs": [
    {
     "name": "stdout",
     "output_type": "stream",
     "text": [
      "<class 'int'>\n"
     ]
    }
   ],
   "source": [
    "#how to know type of a variable:\n",
    "print(type(x))"
   ]
  },
  {
   "cell_type": "code",
   "execution_count": 11,
   "id": "c49293d4",
   "metadata": {},
   "outputs": [],
   "source": [
    "y = 5.6\n",
    "z = 6.3\n",
    "c = 2+4j\n",
    "s= \"hello\""
   ]
  },
  {
   "cell_type": "code",
   "execution_count": 12,
   "id": "33817b33",
   "metadata": {},
   "outputs": [
    {
     "name": "stdout",
     "output_type": "stream",
     "text": [
      "Variable   Type       Data/Info\n",
      "-------------------------------\n",
      "c          complex    (2+4j)\n",
      "s          str        hello\n",
      "x          int        3\n",
      "y          float      5.6\n"
     ]
    }
   ],
   "source": [
    "#we can delete a variable like this :\n",
    "del z\n",
    "%whos"
   ]
  },
  {
   "cell_type": "markdown",
   "id": "8c9bfa7b",
   "metadata": {},
   "source": [
    "# Operators"
   ]
  },
  {
   "cell_type": "code",
   "execution_count": 14,
   "id": "cc6f3f2c",
   "metadata": {},
   "outputs": [],
   "source": [
    "a = 3+3\n",
    "b = 3-3\n",
    "c = 3/3\n",
    "d = 10//3\n",
    "e = 10/3\n",
    "f = 10%3\n",
    "g = 10**3"
   ]
  },
  {
   "cell_type": "markdown",
   "id": "819b4b2a",
   "metadata": {},
   "source": [
    "# Bool"
   ]
  },
  {
   "cell_type": "code",
   "execution_count": 17,
   "id": "1556f138",
   "metadata": {},
   "outputs": [
    {
     "name": "stdout",
     "output_type": "stream",
     "text": [
      "Variable   Type     Data/Info\n",
      "-----------------------------\n",
      "Cd         bool     False\n",
      "a          int      6\n",
      "ab         bool     True\n",
      "b          int      0\n",
      "c          float    1.0\n",
      "d          int      3\n",
      "e          float    3.3333333333333335\n",
      "f          int      1\n",
      "g          int      1000\n",
      "s          str      hello\n",
      "x          int      3\n",
      "y          float    5.6\n"
     ]
    }
   ],
   "source": [
    "ab = True\n",
    "Cd = False\n",
    "%whos"
   ]
  },
  {
   "cell_type": "markdown",
   "id": "faf09bdc",
   "metadata": {},
   "source": [
    "# Useful function"
   ]
  },
  {
   "cell_type": "code",
   "execution_count": 21,
   "id": "b5770d66",
   "metadata": {},
   "outputs": [
    {
     "name": "stdout",
     "output_type": "stream",
     "text": [
      "5\n",
      "3\n",
      "4.56\n",
      "4.557\n"
     ]
    }
   ],
   "source": [
    "# 1 : round : it rounds the number\n",
    "print(round(4.556))\n",
    "print(round(3.345))\n",
    "print(round(4.556789,2))\n",
    "print(round(4.556789,3))"
   ]
  },
  {
   "cell_type": "code",
   "execution_count": 24,
   "id": "01c637f3",
   "metadata": {},
   "outputs": [
    {
     "name": "stdout",
     "output_type": "stream",
     "text": [
      "(3, 4)\n",
      "<class 'tuple'>\n"
     ]
    }
   ],
   "source": [
    "# 2 divmod(x,y) : it give the // and the % of two numbers:\n",
    "print(divmod(34,10))\n",
    "print(type (divmod(34,10)))"
   ]
  },
  {
   "cell_type": "code",
   "execution_count": 28,
   "id": "e703d5dc",
   "metadata": {},
   "outputs": [
    {
     "name": "stdout",
     "output_type": "stream",
     "text": [
      "True\n",
      "True\n",
      "False\n"
     ]
    }
   ],
   "source": [
    "# 3 : isinstance() : return if the data value belons to type or not :\n",
    "print(isinstance(1,int))\n",
    "\n",
    "# we can check if a value belongs to specifiv types of values :\n",
    "print (isinstance(1.0,(int,float)))\n",
    "print (isinstance(1.0,(int,str)))"
   ]
  },
  {
   "cell_type": "code",
   "execution_count": 32,
   "id": "48144801",
   "metadata": {},
   "outputs": [
    {
     "name": "stdout",
     "output_type": "stream",
     "text": [
      "16\n",
      "2\n"
     ]
    }
   ],
   "source": [
    "# 4 power(x,y,z) : x raise to the power y and remainder by z ((x**y)%z)\n",
    "print(pow(2,4))\n",
    "print(pow(2,4,7))"
   ]
  },
  {
   "cell_type": "code",
   "execution_count": null,
   "id": "79fe4d35",
   "metadata": {},
   "outputs": [],
   "source": [
    "# 5 : input()\n",
    "#gh = input(\"enter a number: \")"
   ]
  },
  {
   "cell_type": "code",
   "execution_count": null,
   "id": "17b57ad5",
   "metadata": {},
   "outputs": [],
   "source": [
    "#gj = str(input(\"enter a name\"))"
   ]
  },
  {
   "cell_type": "markdown",
   "id": "5dac55cd",
   "metadata": {},
   "source": [
    "# functions, loops, lists and so on we already know"
   ]
  },
  {
   "cell_type": "markdown",
   "id": "a4cbb240",
   "metadata": {},
   "source": [
    "# Modules"
   ]
  },
  {
   "cell_type": "code",
   "execution_count": 36,
   "id": "6b2f6201",
   "metadata": {},
   "outputs": [],
   "source": [
    "# It is a python file that contains code/functiosn that we can use when we want"
   ]
  },
  {
   "cell_type": "code",
   "execution_count": 45,
   "id": "76271c0f",
   "metadata": {},
   "outputs": [],
   "source": [
    "#this is the path where we put our file \"Trainings.py\"\n",
    "import sys\n",
    "sys.path.append('C:/coding/Python/')"
   ]
  },
  {
   "cell_type": "code",
   "execution_count": 48,
   "id": "210b0d2a",
   "metadata": {},
   "outputs": [],
   "source": [
    "#now we can import the file after we specified the path:\n",
    "import Trainings as myfs"
   ]
  },
  {
   "cell_type": "code",
   "execution_count": 49,
   "id": "4adb457f",
   "metadata": {},
   "outputs": [
    {
     "name": "stdout",
     "output_type": "stream",
     "text": [
      "1\n",
      "2\n",
      "3\n",
      "4\n",
      "5\n",
      "6\n",
      "boom\n"
     ]
    },
    {
     "data": {
      "text/plain": [
       "''"
      ]
     },
     "execution_count": 49,
     "metadata": {},
     "output_type": "execute_result"
    }
   ],
   "source": [
    "#now we can run the function \"running\" that is inside the file:\n",
    "myfs.running(7)"
   ]
  },
  {
   "cell_type": "code",
   "execution_count": null,
   "id": "08305cc7",
   "metadata": {},
   "outputs": [],
   "source": []
  }
 ],
 "metadata": {
  "kernelspec": {
   "display_name": "Python 3",
   "language": "python",
   "name": "python3"
  },
  "language_info": {
   "codemirror_mode": {
    "name": "ipython",
    "version": 3
   },
   "file_extension": ".py",
   "mimetype": "text/x-python",
   "name": "python",
   "nbconvert_exporter": "python",
   "pygments_lexer": "ipython3",
   "version": "3.8.8"
  }
 },
 "nbformat": 4,
 "nbformat_minor": 5
}
