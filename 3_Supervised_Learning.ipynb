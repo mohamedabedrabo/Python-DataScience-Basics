{
 "cells": [
  {
   "cell_type": "markdown",
   "id": "2196cb5e",
   "metadata": {},
   "source": [
    "# Supervised Learning algorithms and their uses"
   ]
  },
  {
   "cell_type": "code",
   "execution_count": 2,
   "id": "c911c798",
   "metadata": {},
   "outputs": [],
   "source": [
    "import sys\n",
    "import IPython\n",
    "import sklearn\n",
    "import numpy as np\n",
    "import pandas as pd\n",
    "import matplotlib.pyplot as plt\n",
    "import mglearn"
   ]
  },
  {
   "cell_type": "markdown",
   "id": "e787a70d",
   "metadata": {},
   "source": [
    "## A.1 Classification problem 1st example \n",
    "### Simple example"
   ]
  },
  {
   "cell_type": "code",
   "execution_count": 10,
   "id": "1ece2651",
   "metadata": {},
   "outputs": [],
   "source": [
    "# This low-dimensional dataset contains 2 features and a string target variable"
   ]
  },
  {
   "cell_type": "markdown",
   "id": "677612b1",
   "metadata": {},
   "source": [
    "#### Creating scatter plot for 2-class classification dataset:"
   ]
  },
  {
   "cell_type": "code",
   "execution_count": 4,
   "id": "93d704bd",
   "metadata": {},
   "outputs": [],
   "source": [
    "X, y = mglearn.datasets.make_forge()"
   ]
  },
  {
   "cell_type": "code",
   "execution_count": 6,
   "id": "2c34134a",
   "metadata": {},
   "outputs": [
    {
     "name": "stdout",
     "output_type": "stream",
     "text": [
      "X.shape: (26, 2)\n"
     ]
    },
    {
     "data": {
      "image/png": "[encoded data removed]",
      "text/plain": [
       "<Figure size 432x288 with 1 Axes>"
      ]
     },
     "metadata": {
      "needs_background": "light"
     },
     "output_type": "display_data"
    }
   ],
   "source": [
    "mglearn.discrete_scatter(X[:, 0], X[:, 1], y)\n",
    "plt.legend([\"Class0\", \"Class 1\"], loc=4)\n",
    "plt.xlabel(\"First feature\")\n",
    "plt.ylabel(\"Second feature\")\n",
    "print(\"X.shape: {}\".format(X.shape))\n",
    "# The plot has the first feature on the x-axis\n",
    "# and the second feature on the y-axis\n",
    "# Each data point is known if it belongs to class 0 or 1."
   ]
  },
  {
   "cell_type": "markdown",
   "id": "37158df4",
   "metadata": {},
   "source": [
    "#### Notes about the plot:"
   ]
  },
  {
   "cell_type": "code",
   "execution_count": 7,
   "id": "1cb98f93",
   "metadata": {},
   "outputs": [],
   "source": [
    "# 1. The dataset consists of 26 data points, and there are 2 features\n",
    "# 2. Eeach data point is represented as one dot. It's color indicates its class"
   ]
  },
  {
   "cell_type": "markdown",
   "id": "b7641b7b",
   "metadata": {},
   "source": [
    "## B.1 Regression problem 1st example \n",
    "### Simple example"
   ]
  },
  {
   "cell_type": "code",
   "execution_count": 11,
   "id": "a1c563f7",
   "metadata": {},
   "outputs": [],
   "source": [
    "# this low-dimensional dataset contains one feature, numeric target variable."
   ]
  },
  {
   "cell_type": "markdown",
   "id": "de8bc440",
   "metadata": {},
   "source": [
    "#### Creating scatter plot for 1-feature regression dataset:"
   ]
  },
  {
   "cell_type": "code",
   "execution_count": 8,
   "id": "5fb494d5",
   "metadata": {},
   "outputs": [
    {
     "data": {
      "text/plain": [
       "Text(0, 0.5, 'Target')"
      ]
     },
     "execution_count": 8,
     "metadata": {},
     "output_type": "execute_result"
    },
    {
     "data": {
      "image/png": "[encoded data removed]",
      "text/plain": [
       "<Figure size 432x288 with 1 Axes>"
      ]
     },
     "metadata": {
      "needs_background": "light"
     },
     "output_type": "display_data"
    }
   ],
   "source": [
    "X, y = mglearn.datasets.make_wave(n_samples=40)\n",
    "plt.plot(X, y, 'o')\n",
    "plt.ylim(-3, 3)\n",
    "plt.xlabel(\"Feature\")\n",
    "plt.ylabel(\"Target\")"
   ]
  },
  {
   "cell_type": "markdown",
   "id": "a857edf7",
   "metadata": {},
   "source": [
    "#### Notes:"
   ]
  },
  {
   "cell_type": "code",
   "execution_count": 9,
   "id": "e4fe1a96",
   "metadata": {},
   "outputs": [],
   "source": [
    "# 1. the x-axis showing the feature\n",
    "# 2. the y-axis showing the regression target"
   ]
  },
  {
   "cell_type": "code",
   "execution_count": null,
   "id": "6ddc02eb",
   "metadata": {},
   "outputs": [],
   "source": []
  }
 ],
 "metadata": {
  "kernelspec": {
   "display_name": "Python 3",
   "language": "python",
   "name": "python3"
  },
  "language_info": {
   "codemirror_mode": {
    "name": "ipython",
    "version": 3
   },
   "file_extension": ".py",
   "mimetype": "text/x-python",
   "name": "python",
   "nbconvert_exporter": "python",
   "pygments_lexer": "ipython3",
   "version": "3.8.8"
  }
 },
 "nbformat": 4,
 "nbformat_minor": 5
}
